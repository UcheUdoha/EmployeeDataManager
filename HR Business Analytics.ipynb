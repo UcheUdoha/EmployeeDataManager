{
 "cells": [
  {
   "cell_type": "code",
   "execution_count": 4,
   "id": "legal-interface",
   "metadata": {
    "papermill": {
     "duration": 0.75886,
     "end_time": "2021-06-11T04:58:45.263361",
     "exception": false,
     "start_time": "2021-06-11T04:58:44.504501",
     "status": "completed"
    },
    "tags": []
   },
   "outputs": [],
   "source": [
    "import numpy as np\n",
    "import pandas as pd\n",
    "import seaborn as sns\n",
    "import matplotlib.pyplot as mp\n",
    "%matplotlib inline"
   ]
  },
  {
   "cell_type": "code",
   "execution_count": 5,
   "id": "criminal-activity",
   "metadata": {
    "papermill": {
     "duration": 1.113927,
     "end_time": "2021-06-11T04:58:46.388207",
     "exception": false,
     "start_time": "2021-06-11T04:58:45.274280",
     "status": "completed"
    },
    "tags": []
   },
   "outputs": [
    {
     "name": "stderr",
     "output_type": "stream",
     "text": [
      "/var/folders/pp/zt4qfxzj5cg9y_pnj4pp8cgm0000gn/T/ipykernel_2696/2958079652.py:1: DtypeWarning: Columns (2,3,4,5) have mixed types. Specify dtype option on import or set low_memory=False.\n",
      "  df= pd.read_csv('Total.csv')\n"
     ]
    }
   ],
   "source": [
    "df= pd.read_csv('Total.csv')"
   ]
  },
  {
   "cell_type": "code",
   "execution_count": 6,
   "id": "coastal-envelope",
   "metadata": {
    "papermill": {
     "duration": 0.110097,
     "end_time": "2021-06-11T04:58:46.510237",
     "exception": false,
     "start_time": "2021-06-11T04:58:46.400140",
     "status": "completed"
    },
    "tags": []
   },
   "outputs": [
    {
     "name": "stdout",
     "output_type": "stream",
     "text": [
      "<class 'pandas.core.frame.DataFrame'>\n",
      "RangeIndex: 312882 entries, 0 to 312881\n",
      "Data columns (total 9 columns):\n",
      " #   Column            Non-Null Count   Dtype  \n",
      "---  ------            --------------   -----  \n",
      " 0   EmployeeName      312882 non-null  object \n",
      " 1   JobTitle          312882 non-null  object \n",
      " 2   BasePay           312882 non-null  object \n",
      " 3   OvertimePay       312882 non-null  object \n",
      " 4   OtherPay          312882 non-null  object \n",
      " 5   Benefits          312882 non-null  object \n",
      " 6   TotalPay          312882 non-null  float64\n",
      " 7   TotalPayBenefits  312882 non-null  float64\n",
      " 8   Year              312882 non-null  int64  \n",
      "dtypes: float64(2), int64(1), object(6)\n",
      "memory usage: 21.5+ MB\n"
     ]
    }
   ],
   "source": [
    "df.info()"
   ]
  },
  {
   "cell_type": "code",
   "execution_count": 7,
   "id": "collective-facial",
   "metadata": {
    "papermill": {
     "duration": 0.033647,
     "end_time": "2021-06-11T04:58:46.555110",
     "exception": false,
     "start_time": "2021-06-11T04:58:46.521463",
     "status": "completed"
    },
    "tags": []
   },
   "outputs": [
    {
     "data": {
      "text/html": [
       "<div>\n",
       "<style scoped>\n",
       "    .dataframe tbody tr th:only-of-type {\n",
       "        vertical-align: middle;\n",
       "    }\n",
       "\n",
       "    .dataframe tbody tr th {\n",
       "        vertical-align: top;\n",
       "    }\n",
       "\n",
       "    .dataframe thead th {\n",
       "        text-align: right;\n",
       "    }\n",
       "</style>\n",
       "<table border=\"1\" class=\"dataframe\">\n",
       "  <thead>\n",
       "    <tr style=\"text-align: right;\">\n",
       "      <th></th>\n",
       "      <th>EmployeeName</th>\n",
       "      <th>JobTitle</th>\n",
       "      <th>BasePay</th>\n",
       "      <th>OvertimePay</th>\n",
       "      <th>OtherPay</th>\n",
       "      <th>Benefits</th>\n",
       "      <th>TotalPay</th>\n",
       "      <th>TotalPayBenefits</th>\n",
       "      <th>Year</th>\n",
       "    </tr>\n",
       "  </thead>\n",
       "  <tbody>\n",
       "    <tr>\n",
       "      <th>0</th>\n",
       "      <td>NATHANIEL FORD</td>\n",
       "      <td>GENERAL MANAGER-METROPOLITAN TRANSIT AUTHORITY</td>\n",
       "      <td>167411.18</td>\n",
       "      <td>0.0</td>\n",
       "      <td>400184.25</td>\n",
       "      <td>Not Provided</td>\n",
       "      <td>567595.43</td>\n",
       "      <td>567595.43</td>\n",
       "      <td>2011</td>\n",
       "    </tr>\n",
       "    <tr>\n",
       "      <th>1</th>\n",
       "      <td>GARY JIMENEZ</td>\n",
       "      <td>CAPTAIN III (POLICE DEPARTMENT)</td>\n",
       "      <td>155966.02</td>\n",
       "      <td>245131.88</td>\n",
       "      <td>137811.38</td>\n",
       "      <td>Not Provided</td>\n",
       "      <td>538909.28</td>\n",
       "      <td>538909.28</td>\n",
       "      <td>2011</td>\n",
       "    </tr>\n",
       "    <tr>\n",
       "      <th>2</th>\n",
       "      <td>ALBERT PARDINI</td>\n",
       "      <td>CAPTAIN III (POLICE DEPARTMENT)</td>\n",
       "      <td>212739.13</td>\n",
       "      <td>106088.18</td>\n",
       "      <td>16452.6</td>\n",
       "      <td>Not Provided</td>\n",
       "      <td>335279.91</td>\n",
       "      <td>335279.91</td>\n",
       "      <td>2011</td>\n",
       "    </tr>\n",
       "    <tr>\n",
       "      <th>3</th>\n",
       "      <td>CHRISTOPHER CHONG</td>\n",
       "      <td>WIRE ROPE CABLE MAINTENANCE MECHANIC</td>\n",
       "      <td>77916.0</td>\n",
       "      <td>56120.71</td>\n",
       "      <td>198306.9</td>\n",
       "      <td>Not Provided</td>\n",
       "      <td>332343.61</td>\n",
       "      <td>332343.61</td>\n",
       "      <td>2011</td>\n",
       "    </tr>\n",
       "    <tr>\n",
       "      <th>4</th>\n",
       "      <td>PATRICK GARDNER</td>\n",
       "      <td>DEPUTY CHIEF OF DEPARTMENT,(FIRE DEPARTMENT)</td>\n",
       "      <td>134401.6</td>\n",
       "      <td>9737.0</td>\n",
       "      <td>182234.59</td>\n",
       "      <td>Not Provided</td>\n",
       "      <td>326373.19</td>\n",
       "      <td>326373.19</td>\n",
       "      <td>2011</td>\n",
       "    </tr>\n",
       "  </tbody>\n",
       "</table>\n",
       "</div>"
      ],
      "text/plain": [
       "        EmployeeName                                        JobTitle  \\\n",
       "0     NATHANIEL FORD  GENERAL MANAGER-METROPOLITAN TRANSIT AUTHORITY   \n",
       "1       GARY JIMENEZ                 CAPTAIN III (POLICE DEPARTMENT)   \n",
       "2     ALBERT PARDINI                 CAPTAIN III (POLICE DEPARTMENT)   \n",
       "3  CHRISTOPHER CHONG            WIRE ROPE CABLE MAINTENANCE MECHANIC   \n",
       "4    PATRICK GARDNER    DEPUTY CHIEF OF DEPARTMENT,(FIRE DEPARTMENT)   \n",
       "\n",
       "     BasePay OvertimePay   OtherPay      Benefits   TotalPay  \\\n",
       "0  167411.18         0.0  400184.25  Not Provided  567595.43   \n",
       "1  155966.02   245131.88  137811.38  Not Provided  538909.28   \n",
       "2  212739.13   106088.18    16452.6  Not Provided  335279.91   \n",
       "3    77916.0    56120.71   198306.9  Not Provided  332343.61   \n",
       "4   134401.6      9737.0  182234.59  Not Provided  326373.19   \n",
       "\n",
       "   TotalPayBenefits  Year  \n",
       "0         567595.43  2011  \n",
       "1         538909.28  2011  \n",
       "2         335279.91  2011  \n",
       "3         332343.61  2011  \n",
       "4         326373.19  2011  "
      ]
     },
     "execution_count": 7,
     "metadata": {},
     "output_type": "execute_result"
    }
   ],
   "source": [
    "df.head()"
   ]
  },
  {
   "cell_type": "code",
   "execution_count": 8,
   "id": "confused-tiger",
   "metadata": {
    "papermill": {
     "duration": 0.019315,
     "end_time": "2021-06-11T04:58:46.586272",
     "exception": false,
     "start_time": "2021-06-11T04:58:46.566957",
     "status": "completed"
    },
    "tags": []
   },
   "outputs": [
    {
     "name": "stdout",
     "output_type": "stream",
     "text": [
      "This Dataset countains 312882 Rows and 9 Columns\n"
     ]
    }
   ],
   "source": [
    "print('This Dataset countains {} Rows and {} Columns'.format(df.shape[0], df.shape[1]))"
   ]
  },
  {
   "cell_type": "code",
   "execution_count": 20,
   "id": "changed-alias",
   "metadata": {
    "papermill": {
     "duration": 0.278825,
     "end_time": "2021-06-11T04:58:46.877279",
     "exception": false,
     "start_time": "2021-06-11T04:58:46.598454",
     "status": "completed"
    },
    "tags": []
   },
   "outputs": [],
   "source": [
    "### we must their type to float64 \n",
    "\n",
    "series_list = ['BasePay', 'OvertimePay', 'OtherPay', 'Benefits']\n",
    "for series in series_list:\n",
    "    df[series] = pd.to_numeric(df[series], errors='coerce')"
   ]
  },
  {
   "cell_type": "code",
   "execution_count": 21,
   "id": "union-sandwich",
   "metadata": {
    "papermill": {
     "duration": 0.062248,
     "end_time": "2021-06-11T04:58:46.951699",
     "exception": false,
     "start_time": "2021-06-11T04:58:46.889451",
     "status": "completed"
    },
    "tags": []
   },
   "outputs": [
    {
     "name": "stdout",
     "output_type": "stream",
     "text": [
      "<class 'pandas.core.frame.DataFrame'>\n",
      "RangeIndex: 312882 entries, 0 to 312881\n",
      "Data columns (total 9 columns):\n",
      " #   Column            Non-Null Count   Dtype  \n",
      "---  ------            --------------   -----  \n",
      " 0   EmployeeName      312882 non-null  object \n",
      " 1   JobTitle          312882 non-null  object \n",
      " 2   BasePay           312276 non-null  float64\n",
      " 3   OvertimePay       312881 non-null  float64\n",
      " 4   OtherPay          312881 non-null  float64\n",
      " 5   Benefits          276722 non-null  float64\n",
      " 6   TotalPay          312882 non-null  float64\n",
      " 7   TotalPayBenefits  312882 non-null  float64\n",
      " 8   Year              312882 non-null  int64  \n",
      "dtypes: float64(6), int64(1), object(2)\n",
      "memory usage: 21.5+ MB\n"
     ]
    }
   ],
   "source": [
    "df.info()"
   ]
  },
  {
   "cell_type": "code",
   "execution_count": 22,
   "id": "built-words",
   "metadata": {
    "papermill": {
     "duration": 0.148401,
     "end_time": "2021-06-11T04:58:47.113494",
     "exception": false,
     "start_time": "2021-06-11T04:58:46.965093",
     "status": "completed"
    },
    "scrolled": true,
    "tags": []
   },
   "outputs": [
    {
     "data": {
      "text/html": [
       "<div>\n",
       "<style scoped>\n",
       "    .dataframe tbody tr th:only-of-type {\n",
       "        vertical-align: middle;\n",
       "    }\n",
       "\n",
       "    .dataframe tbody tr th {\n",
       "        vertical-align: top;\n",
       "    }\n",
       "\n",
       "    .dataframe thead th {\n",
       "        text-align: right;\n",
       "    }\n",
       "</style>\n",
       "<table border=\"1\" class=\"dataframe\">\n",
       "  <thead>\n",
       "    <tr style=\"text-align: right;\">\n",
       "      <th></th>\n",
       "      <th>BasePay</th>\n",
       "      <th>TotalPay</th>\n",
       "      <th>Benefits</th>\n",
       "      <th>OvertimePay</th>\n",
       "      <th>OtherPay</th>\n",
       "      <th>TotalPayBenefits</th>\n",
       "    </tr>\n",
       "  </thead>\n",
       "  <tbody>\n",
       "    <tr>\n",
       "      <th>count</th>\n",
       "      <td>312276.000000</td>\n",
       "      <td>312882.000000</td>\n",
       "      <td>276722.000000</td>\n",
       "      <td>312881.000000</td>\n",
       "      <td>312881.000000</td>\n",
       "      <td>312882.000000</td>\n",
       "    </tr>\n",
       "    <tr>\n",
       "      <th>mean</th>\n",
       "      <td>69808.257496</td>\n",
       "      <td>78802.645788</td>\n",
       "      <td>25016.917292</td>\n",
       "      <td>5668.929393</td>\n",
       "      <td>3460.694974</td>\n",
       "      <td>100928.339777</td>\n",
       "    </tr>\n",
       "    <tr>\n",
       "      <th>std</th>\n",
       "      <td>45376.929428</td>\n",
       "      <td>53230.758542</td>\n",
       "      <td>15089.077103</td>\n",
       "      <td>12745.655309</td>\n",
       "      <td>7387.263120</td>\n",
       "      <td>66485.186495</td>\n",
       "    </tr>\n",
       "    <tr>\n",
       "      <th>min</th>\n",
       "      <td>-474.400000</td>\n",
       "      <td>-618.130000</td>\n",
       "      <td>-13939.420000</td>\n",
       "      <td>-292.800000</td>\n",
       "      <td>-7058.590000</td>\n",
       "      <td>-3628.780000</td>\n",
       "    </tr>\n",
       "    <tr>\n",
       "      <th>25%</th>\n",
       "      <td>35722.365000</td>\n",
       "      <td>38803.000000</td>\n",
       "      <td>12729.762500</td>\n",
       "      <td>0.000000</td>\n",
       "      <td>0.000000</td>\n",
       "      <td>48955.072500</td>\n",
       "    </tr>\n",
       "    <tr>\n",
       "      <th>50%</th>\n",
       "      <td>67710.450000</td>\n",
       "      <td>74908.790000</td>\n",
       "      <td>28327.330000</td>\n",
       "      <td>0.000000</td>\n",
       "      <td>728.000000</td>\n",
       "      <td>100011.290000</td>\n",
       "    </tr>\n",
       "    <tr>\n",
       "      <th>75%</th>\n",
       "      <td>99312.302500</td>\n",
       "      <td>111386.897500</td>\n",
       "      <td>35268.162500</td>\n",
       "      <td>5223.120000</td>\n",
       "      <td>3958.680000</td>\n",
       "      <td>142376.300000</td>\n",
       "    </tr>\n",
       "    <tr>\n",
       "      <th>max</th>\n",
       "      <td>592394.340000</td>\n",
       "      <td>592394.340000</td>\n",
       "      <td>125891.730000</td>\n",
       "      <td>309481.030000</td>\n",
       "      <td>400184.250000</td>\n",
       "      <td>712802.360000</td>\n",
       "    </tr>\n",
       "  </tbody>\n",
       "</table>\n",
       "</div>"
      ],
      "text/plain": [
       "             BasePay       TotalPay       Benefits    OvertimePay  \\\n",
       "count  312276.000000  312882.000000  276722.000000  312881.000000   \n",
       "mean    69808.257496   78802.645788   25016.917292    5668.929393   \n",
       "std     45376.929428   53230.758542   15089.077103   12745.655309   \n",
       "min      -474.400000    -618.130000  -13939.420000    -292.800000   \n",
       "25%     35722.365000   38803.000000   12729.762500       0.000000   \n",
       "50%     67710.450000   74908.790000   28327.330000       0.000000   \n",
       "75%     99312.302500  111386.897500   35268.162500    5223.120000   \n",
       "max    592394.340000  592394.340000  125891.730000  309481.030000   \n",
       "\n",
       "            OtherPay  TotalPayBenefits  \n",
       "count  312881.000000     312882.000000  \n",
       "mean     3460.694974     100928.339777  \n",
       "std      7387.263120      66485.186495  \n",
       "min     -7058.590000      -3628.780000  \n",
       "25%         0.000000      48955.072500  \n",
       "50%       728.000000     100011.290000  \n",
       "75%      3958.680000     142376.300000  \n",
       "max    400184.250000     712802.360000  "
      ]
     },
     "execution_count": 22,
     "metadata": {},
     "output_type": "execute_result"
    }
   ],
   "source": [
    "df[['BasePay','TotalPay','Benefits','OvertimePay','OtherPay','TotalPayBenefits']].describe()"
   ]
  },
  {
   "cell_type": "code",
   "execution_count": 23,
   "id": "vocal-insertion",
   "metadata": {
    "papermill": {
     "duration": 0.029638,
     "end_time": "2021-06-11T04:58:47.155851",
     "exception": false,
     "start_time": "2021-06-11T04:58:47.126213",
     "status": "completed"
    },
    "tags": []
   },
   "outputs": [
    {
     "data": {
      "text/plain": [
       "'The information of 8 years are available in the dataset:[2011 2012 2013 2014 2015 2016 2017 2018]'"
      ]
     },
     "execution_count": 23,
     "metadata": {},
     "output_type": "execute_result"
    }
   ],
   "source": [
    "A=df['Year'].nunique()\n",
    "B=df['Year'].unique()\n",
    "'The information of {} years are available in the dataset:{}'.format(A,B)"
   ]
  },
  {
   "cell_type": "code",
   "execution_count": 24,
   "id": "equal-camel",
   "metadata": {
    "papermill": {
     "duration": 0.051753,
     "end_time": "2021-06-11T04:58:47.220422",
     "exception": false,
     "start_time": "2021-06-11T04:58:47.168669",
     "status": "completed"
    },
    "tags": []
   },
   "outputs": [],
   "source": [
    "#df.groupby('Year').mean()\n",
    "#df11_numeric_means = df11.select_dtypes(include=[np.number]).groupby(df11['Type 2']).mean()"
   ]
  },
  {
   "cell_type": "code",
   "execution_count": 25,
   "id": "simple-calvin",
   "metadata": {
    "papermill": {
     "duration": 3.028806,
     "end_time": "2021-06-11T04:58:50.262462",
     "exception": false,
     "start_time": "2021-06-11T04:58:47.233656",
     "status": "completed"
    },
    "tags": []
   },
   "outputs": [
    {
     "name": "stderr",
     "output_type": "stream",
     "text": [
      "/opt/anaconda3/lib/python3.11/site-packages/seaborn/_oldcore.py:1119: FutureWarning: use_inf_as_na option is deprecated and will be removed in a future version. Convert inf values to NaN before operating instead.\n",
      "  with pd.option_context('mode.use_inf_as_na', True):\n",
      "/opt/anaconda3/lib/python3.11/site-packages/seaborn/_oldcore.py:1119: FutureWarning: use_inf_as_na option is deprecated and will be removed in a future version. Convert inf values to NaN before operating instead.\n",
      "  with pd.option_context('mode.use_inf_as_na', True):\n"
     ]
    },
    {
     "data": {
      "text/plain": [
       "<Axes: xlabel='TotalPay', ylabel='Density'>"
      ]
     },
     "execution_count": 25,
     "metadata": {},
     "output_type": "execute_result"
    },
    {
     "data": {
      "image/png": "[encoded data removed]",
      "text/plain": [
       "<Figure size 640x480 with 1 Axes>"
      ]
     },
     "metadata": {},
     "output_type": "display_data"
    }
   ],
   "source": [
    "\n",
    "\n",
    "sns.kdeplot(df['TotalPay'])\n",
    "sns.kdeplot(df['BasePay'])\n"
   ]
  },
  {
   "cell_type": "code",
   "execution_count": 26,
   "id": "sunset-green",
   "metadata": {
    "papermill": {
     "duration": 3.355924,
     "end_time": "2021-06-11T04:58:53.632814",
     "exception": false,
     "start_time": "2021-06-11T04:58:50.276890",
     "status": "completed"
    },
    "tags": []
   },
   "outputs": [
    {
     "data": {
      "text/plain": [
       "<Axes: xlabel='Year', ylabel='TotalPay'>"
      ]
     },
     "execution_count": 26,
     "metadata": {},
     "output_type": "execute_result"
    },
    {
     "data": {
      "image/png": "[encoded data removed]",
      "text/plain": [
       "<Figure size 640x480 with 1 Axes>"
      ]
     },
     "metadata": {},
     "output_type": "display_data"
    }
   ],
   "source": [
    "sns.barplot(data=df, x='Year', y='TotalPay')"
   ]
  },
  {
   "cell_type": "code",
   "execution_count": 27,
   "id": "established-shift",
   "metadata": {
    "papermill": {
     "duration": 0.397971,
     "end_time": "2021-06-11T04:58:54.046037",
     "exception": false,
     "start_time": "2021-06-11T04:58:53.648066",
     "status": "completed"
    },
    "tags": []
   },
   "outputs": [
    {
     "data": {
      "text/plain": [
       "Year\n",
       "2011    1045\n",
       "2012    1044\n",
       "2013    1051\n",
       "2014     996\n",
       "2015    1010\n",
       "2016    1009\n",
       "2017    1017\n",
       "2018    1000\n",
       "Name: JobTitle, dtype: int64"
      ]
     },
     "execution_count": 27,
     "metadata": {},
     "output_type": "execute_result"
    }
   ],
   "source": [
    "df.groupby('Year').nunique()['JobTitle']"
   ]
  },
  {
   "cell_type": "code",
   "execution_count": 10,
   "id": "d764c1a4-81d1-4e05-bd40-6850e7cd5d17",
   "metadata": {},
   "outputs": [],
   "source": [
    "file_path = \"Total.csv\"\n",
    "\n",
    "def get_employee_details_from_csv(employee_name, file_path):\n",
    "    try:\n",
    "        # Read the CSV file into a pandas DataFrame\n",
    "        df = pd.read_csv(file_path, low_memory=False)\n",
    "\n",
    "        # Search for the employee's details based on the input name\n",
    "        employee_details = df[df['EmployeeName'] == employee_name]\n",
    "\n",
    "        # Check if the employee details were found\n",
    "        if not employee_details.empty:\n",
    "            # Convert the employee details to a dictionary\n",
    "            employee_dict = employee_details.to_dict(orient='records')[0]\n",
    "            return employee_dict\n",
    "        else:\n",
    "            return f\"No details found for employee '{employee_name}'\"\n",
    "        # error handling\n",
    "    except FileNotFoundError:\n",
    "        return f\"Error: File '{file_path}' not found.\"\n",
    "    except Exception as e:\n",
    "        return f\"Error: {e}\"\n"
   ]
  },
  {
   "cell_type": "code",
   "execution_count": 12,
   "id": "151a64e4-6994-4f19-a927-06116777c927",
   "metadata": {},
   "outputs": [
    {
     "name": "stdin",
     "output_type": "stream",
     "text": [
      "input employee name NATHANIEL FORD\n"
     ]
    },
    {
     "name": "stdout",
     "output_type": "stream",
     "text": [
      "{'EmployeeName': 'NATHANIEL FORD', 'JobTitle': 'GENERAL MANAGER-METROPOLITAN TRANSIT AUTHORITY', 'BasePay': '167411.18', 'OvertimePay': '0.00', 'OtherPay': '400184.25', 'Benefits': 'Not Provided', 'TotalPay': 567595.43, 'TotalPayBenefits': 567595.43, 'Year': 2011}\n",
      "Employee details exported and saved to: ./Employee Profile1.zip\n"
     ]
    }
   ],
   "source": [
    "employee_name = input(\"input employee name\")\n",
    "details = get_employee_details_from_csv(employee_name, file_path)\n",
    "print(details)\n",
    "\n",
    "import zipfile\n",
    "import os\n",
    "\n",
    "def export_employee_details_to_csv(details, output_folder):\n",
    "    # Flatten the nested dictionary structure if needed\n",
    "    flattened_details = {key: value[0][0] if isinstance(value, list) and len(value) == 1 and isinstance(value[0], list) else value for key, value in details.items()}\n",
    "\n",
    "    # Create a DataFrame from the flattened employee details dictionary\n",
    "    df = pd.DataFrame([flattened_details])\n",
    "\n",
    "    # Define the CSV file path\n",
    "    csv_file = os.path.join(output_folder, 'details.csv')\n",
    "\n",
    "    # Export the DataFrame to a CSV file\n",
    "    df.to_csv(csv_file, index=False)\n",
    "\n",
    "    # Create a zipped folder named \"Employee Profile\"\n",
    "    zip_file = os.path.join(output_folder, 'Employee Profile1.zip')\n",
    "    with zipfile.ZipFile(zip_file, 'w') as zipf:\n",
    "        zipf.write(csv_file, arcname='details.csv')\n",
    "\n",
    "    return zip_file\n",
    "\n",
    "\n",
    "output_folder = '.'  # Save the zip file in the current directory\n",
    "zip_file_path = export_employee_details_to_csv(details, output_folder)\n",
    "print(f\"Employee details exported and saved to: {zip_file_path}\")"
   ]
  },
  {
   "cell_type": "code",
   "execution_count": null,
   "id": "3c2e46e1-c4fa-4a71-bbb8-85930e7ad9e7",
   "metadata": {},
   "outputs": [],
   "source": []
  },
  {
   "cell_type": "code",
   "execution_count": null,
   "id": "3224de76-44e1-45be-97e4-8b67fefeb429",
   "metadata": {},
   "outputs": [],
   "source": []
  },
  {
   "cell_type": "code",
   "execution_count": null,
   "id": "1950f9e1-826c-4844-a6ec-68561f3f759f",
   "metadata": {},
   "outputs": [],
   "source": []
  }
 ],
 "metadata": {
  "kernelspec": {
   "display_name": "Python 3 (ipykernel)",
   "language": "python",
   "name": "python3"
  },
  "language_info": {
   "codemirror_mode": {
    "name": "ipython",
    "version": 3
   },
   "file_extension": ".py",
   "mimetype": "text/x-python",
   "name": "python",
   "nbconvert_exporter": "python",
   "pygments_lexer": "ipython3",
   "version": "3.11.7"
  },
  "papermill": {
   "default_parameters": {},
   "duration": 17.736607,
   "end_time": "2021-06-11T04:58:55.414763",
   "environment_variables": {},
   "exception": null,
   "input_path": "__notebook__.ipynb",
   "output_path": "__notebook__.ipynb",
   "parameters": {},
   "start_time": "2021-06-11T04:58:37.678156",
   "version": "2.3.3"
  }
 },
 "nbformat": 4,
 "nbformat_minor": 5
}
